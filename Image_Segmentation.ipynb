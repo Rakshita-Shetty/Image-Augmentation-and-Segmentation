{
  "nbformat": 4,
  "nbformat_minor": 0,
  "metadata": {
    "colab": {
      "name": "Image segmentation.ipynb",
      "provenance": [],
      "authorship_tag": "ABX9TyOAmTKg/6xM5+/ghdQXIrUG",
      "include_colab_link": true
    },
    "kernelspec": {
      "name": "python3",
      "display_name": "Python 3"
    },
    "language_info": {
      "name": "python"
    }
  },
  "cells": [
    {
      "cell_type": "markdown",
      "metadata": {
        "id": "view-in-github",
        "colab_type": "text"
      },
      "source": [
        "<a href=\"https://colab.research.google.com/github/Abhish777/Image-Augmentation-and-Segmentation/blob/master/Image_segmentation.ipynb\" target=\"_parent\"><img src=\"https://colab.research.google.com/assets/colab-badge.svg\" alt=\"Open In Colab\"/></a>"
      ]
    },
    {
      "cell_type": "code",
      "metadata": {
        "id": "-KIMCpybCdNk"
      },
      "source": [
        "import numpy as np\n",
        "import cv2\n",
        "import matplotlib.pyplot as plt"
      ],
      "execution_count": null,
      "outputs": []
    },
    {
      "cell_type": "code",
      "metadata": {
        "id": "isxckQASCg_0"
      },
      "source": [
        "originalImage = cv2.imread(\"/content/holi.png\")\n",
        "originalImage = cv2.cvtColor(originalImage, cv2.COLOR_BGR2RGB)"
      ],
      "execution_count": null,
      "outputs": []
    },
    {
      "cell_type": "markdown",
      "metadata": {
        "id": "bqgpxr6dH7YT"
      },
      "source": [
        "Transforming the image"
      ]
    },
    {
      "cell_type": "code",
      "metadata": {
        "id": "F-ahWV50Dfg9"
      },
      "source": [
        "reshapedImage = np.float32(originalImage.reshape(-1, 3))\n"
      ],
      "execution_count": null,
      "outputs": []
    },
    {
      "cell_type": "markdown",
      "metadata": {
        "id": "UlhiUqR0IGEL"
      },
      "source": [
        "Defining the number of cluster we want to find"
      ]
    },
    {
      "cell_type": "code",
      "metadata": {
        "id": "iTFWYPdDDhdM"
      },
      "source": [
        "numberOfClusters = 2\n",
        "\n",
        "stopCriteria = (cv2.TERM_CRITERIA_EPS + cv2.TERM_CRITERIA_MAX_ITER, 100, 0.1)"
      ],
      "execution_count": null,
      "outputs": []
    },
    {
      "cell_type": "markdown",
      "metadata": {
        "id": "IWuaN9WOIKQJ"
      },
      "source": [
        "kmeans clustering algorithm. This will return us a list with the centroids and a list with all the pixels"
      ]
    },
    {
      "cell_type": "code",
      "metadata": {
        "colab": {
          "base_uri": "https://localhost:8080/"
        },
        "id": "-duiP1GADmJj",
        "outputId": "7a2a1ba4-a694-4ac5-e442-7e142c51a574"
      },
      "source": [
        "ret, labels, clusters = cv2.kmeans(reshapedImage, numberOfClusters, None, stopCriteria, 10, cv2.KMEANS_RANDOM_CENTERS)\n",
        "\n",
        "clusters = np.uint8(clusters)\n",
        "\n",
        "intermediateImage = clusters[labels.flatten()]\n",
        "clusteredImage = intermediateImage.reshape((originalImage.shape))\n",
        "\n",
        "cv2.imwrite(\"clusteredImage.jpg\", clusteredImage)"
      ],
      "execution_count": null,
      "outputs": [
        {
          "output_type": "execute_result",
          "data": {
            "text/plain": [
              "True"
            ]
          },
          "metadata": {
            "tags": []
          },
          "execution_count": 54
        }
      ]
    },
    {
      "cell_type": "markdown",
      "metadata": {
        "id": "CMAE8fZbITRg"
      },
      "source": [
        "# Canny edge detection in opencv\n"
      ]
    },
    {
      "cell_type": "code",
      "metadata": {
        "colab": {
          "base_uri": "https://localhost:8080/"
        },
        "id": "owDJXfiWD70M",
        "outputId": "ae297e29-9f5e-4f09-c8e0-60190b452fa4"
      },
      "source": [
        "# Remove 1 cluster from image and apply canny edge detection\n",
        "removedCluster = 1\n",
        "\n",
        "cannyImage = np.copy(originalImage).reshape((-1, 3))\n",
        "cannyImage[labels.flatten() == removedCluster] = [0, 0, 0]\n",
        "\n",
        "cannyImage = cv2.Canny(cannyImage,100,200).reshape(originalImage.shape)\n",
        "cv2.imwrite(\"cannyImage.jpg\", cannyImage)"
      ],
      "execution_count": null,
      "outputs": [
        {
          "output_type": "execute_result",
          "data": {
            "text/plain": [
              "True"
            ]
          },
          "metadata": {
            "tags": []
          },
          "execution_count": 55
        }
      ]
    },
    {
      "cell_type": "markdown",
      "metadata": {
        "id": "lRZjVFZCIYjc"
      },
      "source": [
        "# Finding contours using opencv\n"
      ]
    },
    {
      "cell_type": "code",
      "metadata": {
        "colab": {
          "base_uri": "https://localhost:8080/"
        },
        "id": "RAloVMrLEBKy",
        "outputId": "03fb745f-8154-46a4-c51e-205cd52fed81"
      },
      "source": [
        "initialContoursImage = np.copy(cannyImage)\n",
        "imgray = cv2.cvtColor(initialContoursImage, cv2.COLOR_BGR2GRAY)\n",
        "_, thresh = cv2.threshold(imgray, 50, 255, 0)\n",
        "contours, hierarchy = cv2.findContours(thresh, cv2.RETR_TREE, cv2.CHAIN_APPROX_SIMPLE)\n",
        "cv2.drawContours(initialContoursImage, contours, -1, (0,0,255), cv2.CHAIN_APPROX_SIMPLE)\n",
        "cv2.imwrite(\"initialContoursImage.jpg\", initialContoursImage)"
      ],
      "execution_count": null,
      "outputs": [
        {
          "output_type": "execute_result",
          "data": {
            "text/plain": [
              "True"
            ]
          },
          "metadata": {
            "tags": []
          },
          "execution_count": 63
        }
      ]
    },
    {
      "cell_type": "code",
      "metadata": {
        "colab": {
          "base_uri": "https://localhost:8080/"
        },
        "id": "HeCkcBwiEY86",
        "outputId": "71a21ba6-0185-4910-fdb6-fb9f98b3fe78"
      },
      "source": [
        "cnt = contours[0]\n",
        "largest_area=0\n",
        "index = 0\n",
        "for contour in contours:\n",
        "    if index > 0:\n",
        "        area = cv2.contourArea(contour)\n",
        "        if (area>largest_area):\n",
        "            largest_area=area\n",
        "            cnt = contours[index]\n",
        "    index = index + 1\n",
        "\n",
        "biggestContourImage = np.copy(originalImage)\n",
        "cv2.drawContours(biggestContourImage, [cnt], -1, (0,0,255), 3)\n",
        "cv2.imwrite(\"biggestContourImage.jpg\", biggestContourImage)"
      ],
      "execution_count": null,
      "outputs": [
        {
          "output_type": "execute_result",
          "data": {
            "text/plain": [
              "True"
            ]
          },
          "metadata": {
            "tags": []
          },
          "execution_count": 64
        }
      ]
    },
    {
      "cell_type": "markdown",
      "metadata": {
        "id": "U4ZJbhE2GQcd"
      },
      "source": [
        "# Image quantification with k-means"
      ]
    },
    {
      "cell_type": "markdown",
      "metadata": {
        "id": "2MOnG0_JGVhE"
      },
      "source": [
        "Loading an Image"
      ]
    },
    {
      "cell_type": "code",
      "metadata": {
        "id": "L_bM-ZA6F1zu"
      },
      "source": [
        "from PIL import Image\n",
        "I = Image.open(\"holi.png\")\n"
      ],
      "execution_count": null,
      "outputs": []
    },
    {
      "cell_type": "markdown",
      "metadata": {
        "id": "4lCAiS4lGYlr"
      },
      "source": [
        "Transforming into numpy array"
      ]
    },
    {
      "cell_type": "code",
      "metadata": {
        "id": "b4OMfvfMF7wz"
      },
      "source": [
        "a = np.asarray(I,dtype=np.float32)/255\n",
        "plt.figure(figsize=(12,12))\n",
        "plt.imshow(a)\n",
        "plt.axis('off')\n",
        "plt.show()"
      ],
      "execution_count": null,
      "outputs": []
    },
    {
      "cell_type": "markdown",
      "metadata": {
        "id": "mdyyRfCDGdhN"
      },
      "source": [
        "Counting number of pixels and colors"
      ]
    },
    {
      "cell_type": "code",
      "metadata": {
        "colab": {
          "base_uri": "https://localhost:8080/"
        },
        "id": "VHmwL-ytF_Ba",
        "outputId": "2b008d76-b19b-40b2-c309-72e5d41884ca"
      },
      "source": [
        "w, h = I.size\n",
        "colors = I.getcolors(w * h)\n",
        "num_colors = len(colors) \n",
        "num_pixels = w*h \n",
        "\n",
        "print ('Number of pixels = ', num_pixels)\n",
        "print ('Number of colors = ', num_colors)"
      ],
      "execution_count": null,
      "outputs": [
        {
          "output_type": "stream",
          "text": [
            "Number of pixels =  291100\n",
            "Number of colors =  118709\n"
          ],
          "name": "stdout"
        }
      ]
    },
    {
      "cell_type": "markdown",
      "metadata": {
        "id": "6gMqp7ZjGnH7"
      },
      "source": [
        "Re arranging the matrix to apply K-means"
      ]
    },
    {
      "cell_type": "code",
      "metadata": {
        "colab": {
          "base_uri": "https://localhost:8080/"
        },
        "id": "oi8_TA4JGDue",
        "outputId": "8cee4dd9-8125-48fa-d9e5-1822e0fcb23e"
      },
      "source": [
        "x, y, z = a.shape\n",
        "print('a shape ', a.shape)\n",
        "\n",
        "a1 = a.reshape(x*y, z)\n",
        "print('a1 shape ', a1.shape)"
      ],
      "execution_count": null,
      "outputs": [
        {
          "output_type": "stream",
          "text": [
            "a shape  (410, 710, 4)\n",
            "a1 shape  (291100, 4)\n"
          ],
          "name": "stdout"
        }
      ]
    },
    {
      "cell_type": "markdown",
      "metadata": {
        "id": "UEbn8ibNGtlF"
      },
      "source": [
        "Grouping the colors into 60 groups"
      ]
    },
    {
      "cell_type": "code",
      "metadata": {
        "colab": {
          "base_uri": "https://localhost:8080/"
        },
        "id": "CfxHsJmZGGDK",
        "outputId": "d3efa96c-628e-49ca-eb21-2bdba41590a4"
      },
      "source": [
        "n = 60\n",
        "k_means = KMeans(n_clusters=n)\n",
        "k_means.fit(a1)"
      ],
      "execution_count": null,
      "outputs": [
        {
          "output_type": "execute_result",
          "data": {
            "text/plain": [
              "KMeans(algorithm='auto', copy_x=True, init='k-means++', max_iter=300,\n",
              "       n_clusters=60, n_init=10, n_jobs=None, precompute_distances='auto',\n",
              "       random_state=None, tol=0.0001, verbose=0)"
            ]
          },
          "metadata": {
            "tags": []
          },
          "execution_count": 70
        }
      ]
    },
    {
      "cell_type": "markdown",
      "metadata": {
        "id": "jSwWa0w1G1k9"
      },
      "source": [
        "The final centroids are the new colors and each pixes has been assigned a label"
      ]
    },
    {
      "cell_type": "code",
      "metadata": {
        "id": "Arvexb7wGJ5s"
      },
      "source": [
        "centroids = k_means.cluster_centers_\n",
        "labels = k_means.labels_"
      ],
      "execution_count": null,
      "outputs": []
    },
    {
      "cell_type": "markdown",
      "metadata": {
        "id": "fyyh8HZMG6i6"
      },
      "source": [
        "Reconstructing the matrix of the image from the labels and the colors"
      ]
    },
    {
      "cell_type": "code",
      "metadata": {
        "colab": {
          "base_uri": "https://localhost:8080/"
        },
        "id": "XO7Tid-rG8G6",
        "outputId": "eaaa8c2f-79a3-485e-b978-4345cf7d8da1"
      },
      "source": [
        "print('centroids shape ', centroids.shape)\n",
        "print('labels shape ', labels.shape)"
      ],
      "execution_count": null,
      "outputs": [
        {
          "output_type": "stream",
          "text": [
            "centroids shape  (60, 4)\n",
            "labels shape  (291100,)\n"
          ],
          "name": "stdout"
        }
      ]
    },
    {
      "cell_type": "code",
      "metadata": {
        "colab": {
          "base_uri": "https://localhost:8080/"
        },
        "id": "rGA5hSO3G_3Q",
        "outputId": "e77b1b89-e750-4880-8ec0-a99d0ba414b0"
      },
      "source": [
        "a2 = centroids[labels]\n",
        "print('a2 shape ', a2.shape)\n",
        "\n",
        "a3 = a2.reshape(x,y,z)\n",
        "print('a3 shape ', a3.shape)"
      ],
      "execution_count": null,
      "outputs": [
        {
          "output_type": "stream",
          "text": [
            "a2 shape  (291100, 4)\n",
            "a3 shape  (410, 710, 4)\n"
          ],
          "name": "stdout"
        }
      ]
    },
    {
      "cell_type": "markdown",
      "metadata": {
        "id": "3UC3C3GZHqiT"
      },
      "source": [
        "Viewing the image with only 60 colors"
      ]
    },
    {
      "cell_type": "code",
      "metadata": {
        "colab": {
          "base_uri": "https://localhost:8080/"
        },
        "id": "piAXjKaqHCiE",
        "outputId": "0b0f683e-4d82-40ac-8d01-e9cc8015b274"
      },
      "source": [
        "plt.figure(figsize=(12,12))\n",
        "plt.imshow(a3)\n",
        "plt.axis('off')\n",
        "plt.show()"
      ],
      "execution_count": null,
      "outputs": [
        {
          "output_type": "stream",
          "text": [
            "Clipping input data to the valid range for imshow with RGB data ([0..1] for floats or [0..255] for integers).\n"
          ],
          "name": "stderr"
        }
      ]
    },
    {
      "cell_type": "code",
      "metadata": {
        "id": "6afv9vQ1HSZy"
      },
      "source": [
        "a4 = np.floor(a3*255)\n",
        "a5 = a4.astype(np.uint8)\n",
        "\n",
        "I1 = Image.fromarray(a5)\n",
        "I1.save(\"colors.png\")"
      ],
      "execution_count": null,
      "outputs": []
    },
    {
      "cell_type": "code",
      "metadata": {
        "colab": {
          "base_uri": "https://localhost:8080/"
        },
        "id": "JeAaF7Y7HZk0",
        "outputId": "d2cf9b8d-a8e6-475a-becf-62132b93a2db"
      },
      "source": [
        "w, h = I1.size\n",
        "colors = I1.getcolors(w * h)\n",
        "num_colors = len(colors) \n",
        "num_pixels = w*h \n",
        "\n",
        "print ('Number of pixels = ', num_pixels)\n",
        "print ('Number of colors = ', num_colors)"
      ],
      "execution_count": null,
      "outputs": [
        {
          "output_type": "stream",
          "text": [
            "Number of pixels =  291100\n",
            "Number of colors =  60\n"
          ],
          "name": "stdout"
        }
      ]
    }
  ]
}